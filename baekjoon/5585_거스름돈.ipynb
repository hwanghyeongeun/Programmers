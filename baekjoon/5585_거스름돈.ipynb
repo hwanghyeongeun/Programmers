{
  "nbformat": 4,
  "nbformat_minor": 0,
  "metadata": {
    "colab": {
      "name": "5585 거스름돈.ipynb",
      "provenance": [],
      "authorship_tag": "ABX9TyPvo04Z68eYAx0CIP13oWHD",
      "include_colab_link": true
    },
    "kernelspec": {
      "name": "python3",
      "display_name": "Python 3"
    },
    "language_info": {
      "name": "python"
    }
  },
  "cells": [
    {
      "cell_type": "markdown",
      "metadata": {
        "id": "view-in-github",
        "colab_type": "text"
      },
      "source": [
        "<a href=\"https://colab.research.google.com/github/hwanghyeongeun/Programmers/blob/main/baekjoon/5585_%EA%B1%B0%EC%8A%A4%EB%A6%84%EB%8F%88.ipynb\" target=\"_parent\"><img src=\"https://colab.research.google.com/assets/colab-badge.svg\" alt=\"Open In Colab\"/></a>"
      ]
    },
    {
      "cell_type": "code",
      "execution_count": 8,
      "metadata": {
        "colab": {
          "base_uri": "https://localhost:8080/"
        },
        "id": "5zYIbFzVxjrP",
        "outputId": "81547bf7-cb8e-4f45-aa80-86b323c42554"
      },
      "outputs": [
        {
          "output_type": "stream",
          "name": "stdout",
          "text": [
            "380\n",
            "4\n"
          ]
        }
      ],
      "source": [
        "# 20220128 백준 5585 거스름돈\n",
        "# Greedy\n",
        "# https://www.acmicpc.net/problem/5585\n",
        "\n",
        "# 타로는 자주 JOI잡화점에서 물건을 산다\n",
        "# JOI잡화점에는 잔돈으로 500엔, 100엔, 50엔, 10엔, 5엔, 1엔이 충분히 있고\n",
        "# 언제나 거스름돈 개수가 가장 적게 잔돈을 준다.\n",
        "# 타로가 JOI잡화점에서 물건을 사고 카운터에서 1000엔 지폐를 한장 냈을 때\n",
        "\n",
        "money = int(input())\n",
        "change = [500,100,50,10,5,1]\n",
        "remain = 1000 - money\n",
        "count = 0\n",
        "\n",
        "for i in change:\n",
        "  count += remain//i\n",
        "  remain = remain%i\n",
        "\n",
        "print(count)\n"
      ]
    },
    {
      "cell_type": "markdown",
      "source": [
        ""
      ],
      "metadata": {
        "id": "F6oBmNsv52F9"
      }
    }
  ]
}